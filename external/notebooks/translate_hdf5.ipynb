{
 "cells": [
  {
   "cell_type": "markdown",
   "id": "494b9a98-92fb-4d1d-a7c5-c45c1ad5f0a0",
   "metadata": {},
   "source": [
    "## Convert Black Marble HDF5 to Geotiff"
   ]
  },
  {
   "cell_type": "markdown",
   "id": "4877d9a6-fec2-4105-8b9a-72416bd1f841",
   "metadata": {},
   "source": [
    "Using script [provided](https://blackmarble.gsfc.nasa.gov/tools/OpenHDF5.py) by Black Marble and adapted further here. "
   ]
  },
  {
   "cell_type": "code",
   "execution_count": 49,
   "id": "e83bc2ac-2fe5-4837-8e62-a6a38796aa37",
   "metadata": {},
   "outputs": [],
   "source": [
    "import gdal, os"
   ]
  },
  {
   "cell_type": "markdown",
   "id": "2ad5d19d-ebbc-4f05-bd07-77d307d25a06",
   "metadata": {},
   "source": [
    "## List input raster files"
   ]
  },
  {
   "cell_type": "code",
   "execution_count": 59,
   "id": "266fdfab-1c58-4c86-9208-4c3eae62509a",
   "metadata": {},
   "outputs": [
    {
     "data": {
      "text/plain": [
       "['/Users/lestes/Dropbox/data/imagery/nightlights/VNP46A3.A2018091.h10v04.001.2021125101408.h5',\n",
       " '/Users/lestes/Dropbox/data/imagery/nightlights/VNP46A3.A2017060.h10v04.001.2021125065343.h5',\n",
       " '/Users/lestes/Dropbox/data/imagery/nightlights/VNP46A3.A2021335.h10v04.001.2022008112402.h5',\n",
       " '/Users/lestes/Dropbox/data/imagery/nightlights/VNP46A3.A2020306.h10v04.001.2021126183147.h5',\n",
       " '/Users/lestes/Dropbox/data/imagery/nightlights/VNP46A3.A2012214.h10v04.001.2021118153414.h5',\n",
       " '/Users/lestes/Dropbox/data/imagery/nightlights/VNP46A3.A2012306.h10v04.001.2021118161312.h5',\n",
       " '/Users/lestes/Dropbox/data/imagery/nightlights/VNP46A3.A2017091.h10v04.001.2021125100540.h5',\n",
       " '/Users/lestes/Dropbox/data/imagery/nightlights/VNP46A3.A2014305.h10v04.001.2021126141136.h5',\n",
       " '/Users/lestes/Dropbox/data/imagery/nightlights/VNP46A3.A2019091.h10v04.001.2021125101754.h5',\n",
       " '/Users/lestes/Dropbox/data/imagery/nightlights/VNP46A3.A2021121.h10v04.001.2021225123453.h5']"
      ]
     },
     "execution_count": 59,
     "metadata": {},
     "output_type": "execute_result"
    }
   ],
   "source": [
    "imgdir = '/Users/lestes/Dropbox/data/imagery/nightlights/'\n",
    "imgfiles = [f'{imgdir}{img}' for img in os.listdir(imgdir) if \".h5\" in img]\n",
    "imgfiles[0:10]"
   ]
  },
  {
   "cell_type": "markdown",
   "id": "480b7533-3611-48c8-be21-482a4a33e34c",
   "metadata": {},
   "source": [
    "## Translation function"
   ]
  },
  {
   "cell_type": "code",
   "execution_count": 62,
   "id": "786a540b-cc23-4de8-8836-731610448b6f",
   "metadata": {},
   "outputs": [],
   "source": [
    "def translate_hdf5(imgfile, outfolder):\n",
    "\n",
    "        #print(rasterFiles)\n",
    "\n",
    "        #Get File Name Prefix\n",
    "        imagepre = os.path.basename(imgfile)[:-3]\n",
    "        print(imagepre)\n",
    "        \n",
    "        file_ext = \"_BBOX.tif\"\n",
    "\n",
    "        ## Open HDF file\n",
    "        hdflayer = gdal.Open(imgfile, gdal.GA_ReadOnly)\n",
    "\n",
    "        #print (hdflayer.GetSubDatasets())\n",
    "\n",
    "        # Open raster layer\n",
    "        #hdflayer.GetSubDatasets()[0][0] - for first layer\n",
    "        #hdflayer.GetSubDatasets()[1][0] - for second layer ...etc\n",
    "        subhdflayer = hdflayer.GetSubDatasets()[0][0]\n",
    "        rlayer = gdal.Open(subhdflayer, gdal.GA_ReadOnly)\n",
    "        #outputName = rlayer.GetMetadata_Dict()['long_name']\n",
    "\n",
    "        #Subset the Long Name\n",
    "        outname = os.path.basename(subhdflayer[92:])\n",
    "        outname = imagepre + file_ext\n",
    "        # print(outname)\n",
    "\n",
    "        outfile = os.path.join(outfolder, outname)\n",
    "\n",
    "        #collect bounding box coordinates\n",
    "        horiz_tile = int(rlayer.GetMetadata_Dict()[\"HorizontalTileNumber\"])\n",
    "        vert_tile = int(rlayer.GetMetadata_Dict()[\"VerticalTileNumber\"])\n",
    "\n",
    "        westbound = (10*horiz_tile) - 180\n",
    "        northbound = 90-(10*vert_tile)\n",
    "        eastbound = westbound + 10\n",
    "        southbound = northbound - 10\n",
    "\n",
    "        EPSG = \"-a_srs EPSG:4326\" #WGS84\n",
    "\n",
    "        transl_opt_text = (\n",
    "            EPSG+\" -a_ullr \" + str(westbound) + \" \" + \\\n",
    "            str(northbound) + \" \" + str(eastbound) + \" \" + str(southbound)\n",
    "        )\n",
    "\n",
    "        transl_opts = gdal.TranslateOptions(gdal.ParseCommandLine(transl_opt_text))\n",
    "        gdal.Translate(outfile, rlayer, options=transl_opts)"
   ]
  },
  {
   "cell_type": "markdown",
   "id": "0f5d8880-00a9-4bbc-af5b-5594202deeec",
   "metadata": {},
   "source": [
    "## Process in loop"
   ]
  },
  {
   "cell_type": "code",
   "execution_count": null,
   "id": "3bdb3bb9-21ed-485c-89fa-e6613af3c33d",
   "metadata": {},
   "outputs": [],
   "source": [
    "for file in imgfiles:\n",
    "    print(file)\n",
    "    translate_hdf5(file, imgdir)"
   ]
  }
 ],
 "metadata": {
  "kernelspec": {
   "display_name": "Python 3 (ipykernel)",
   "language": "python",
   "name": "python3"
  },
  "language_info": {
   "codemirror_mode": {
    "name": "ipython",
    "version": 3
   },
   "file_extension": ".py",
   "mimetype": "text/x-python",
   "name": "python",
   "nbconvert_exporter": "python",
   "pygments_lexer": "ipython3",
   "version": "3.8.8"
  }
 },
 "nbformat": 4,
 "nbformat_minor": 5
}
